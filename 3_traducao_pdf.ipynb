{
 "cells": [
  {
   "cell_type": "code",
   "execution_count": 1,
   "metadata": {
    "colab": {
     "base_uri": "https://localhost:8080/"
    },
    "id": "sq4BrF0zAO8A",
    "outputId": "69291020-3948-40aa-eaf0-7068b09da7d3"
   },
   "outputs": [
    {
     "name": "stdout",
     "output_type": "stream",
     "text": [
      "Requirement already satisfied: requests in /usr/local/lib/python3.10/dist-packages (2.32.3)\n",
      "Collecting pypdf\n",
      "  Downloading pypdf-5.1.0-py3-none-any.whl.metadata (7.2 kB)\n",
      "Requirement already satisfied: openai in /usr/local/lib/python3.10/dist-packages (1.54.4)\n",
      "Collecting langchain-openai\n",
      "  Downloading langchain_openai-0.2.9-py3-none-any.whl.metadata (2.6 kB)\n",
      "Requirement already satisfied: charset-normalizer<4,>=2 in /usr/local/lib/python3.10/dist-packages (from requests) (3.4.0)\n",
      "Requirement already satisfied: idna<4,>=2.5 in /usr/local/lib/python3.10/dist-packages (from requests) (3.10)\n",
      "Requirement already satisfied: urllib3<3,>=1.21.1 in /usr/local/lib/python3.10/dist-packages (from requests) (2.2.3)\n",
      "Requirement already satisfied: certifi>=2017.4.17 in /usr/local/lib/python3.10/dist-packages (from requests) (2024.8.30)\n",
      "Requirement already satisfied: typing_extensions>=4.0 in /usr/local/lib/python3.10/dist-packages (from pypdf) (4.12.2)\n",
      "Requirement already satisfied: anyio<5,>=3.5.0 in /usr/local/lib/python3.10/dist-packages (from openai) (3.7.1)\n",
      "Requirement already satisfied: distro<2,>=1.7.0 in /usr/local/lib/python3.10/dist-packages (from openai) (1.9.0)\n",
      "Requirement already satisfied: httpx<1,>=0.23.0 in /usr/local/lib/python3.10/dist-packages (from openai) (0.27.2)\n",
      "Requirement already satisfied: jiter<1,>=0.4.0 in /usr/local/lib/python3.10/dist-packages (from openai) (0.7.1)\n",
      "Requirement already satisfied: pydantic<3,>=1.9.0 in /usr/local/lib/python3.10/dist-packages (from openai) (2.9.2)\n",
      "Requirement already satisfied: sniffio in /usr/local/lib/python3.10/dist-packages (from openai) (1.3.1)\n",
      "Requirement already satisfied: tqdm>4 in /usr/local/lib/python3.10/dist-packages (from openai) (4.66.6)\n",
      "Requirement already satisfied: langchain-core<0.4.0,>=0.3.17 in /usr/local/lib/python3.10/dist-packages (from langchain-openai) (0.3.19)\n",
      "Collecting tiktoken<1,>=0.7 (from langchain-openai)\n",
      "  Downloading tiktoken-0.8.0-cp310-cp310-manylinux_2_17_x86_64.manylinux2014_x86_64.whl.metadata (6.6 kB)\n",
      "Requirement already satisfied: exceptiongroup in /usr/local/lib/python3.10/dist-packages (from anyio<5,>=3.5.0->openai) (1.2.2)\n",
      "Requirement already satisfied: httpcore==1.* in /usr/local/lib/python3.10/dist-packages (from httpx<1,>=0.23.0->openai) (1.0.7)\n",
      "Requirement already satisfied: h11<0.15,>=0.13 in /usr/local/lib/python3.10/dist-packages (from httpcore==1.*->httpx<1,>=0.23.0->openai) (0.14.0)\n",
      "Requirement already satisfied: PyYAML>=5.3 in /usr/local/lib/python3.10/dist-packages (from langchain-core<0.4.0,>=0.3.17->langchain-openai) (6.0.2)\n",
      "Requirement already satisfied: jsonpatch<2.0,>=1.33 in /usr/local/lib/python3.10/dist-packages (from langchain-core<0.4.0,>=0.3.17->langchain-openai) (1.33)\n",
      "Requirement already satisfied: langsmith<0.2.0,>=0.1.125 in /usr/local/lib/python3.10/dist-packages (from langchain-core<0.4.0,>=0.3.17->langchain-openai) (0.1.143)\n",
      "Requirement already satisfied: packaging<25,>=23.2 in /usr/local/lib/python3.10/dist-packages (from langchain-core<0.4.0,>=0.3.17->langchain-openai) (24.2)\n",
      "Requirement already satisfied: tenacity!=8.4.0,<10.0.0,>=8.1.0 in /usr/local/lib/python3.10/dist-packages (from langchain-core<0.4.0,>=0.3.17->langchain-openai) (9.0.0)\n",
      "Requirement already satisfied: annotated-types>=0.6.0 in /usr/local/lib/python3.10/dist-packages (from pydantic<3,>=1.9.0->openai) (0.7.0)\n",
      "Requirement already satisfied: pydantic-core==2.23.4 in /usr/local/lib/python3.10/dist-packages (from pydantic<3,>=1.9.0->openai) (2.23.4)\n",
      "Requirement already satisfied: regex>=2022.1.18 in /usr/local/lib/python3.10/dist-packages (from tiktoken<1,>=0.7->langchain-openai) (2024.9.11)\n",
      "Requirement already satisfied: jsonpointer>=1.9 in /usr/local/lib/python3.10/dist-packages (from jsonpatch<2.0,>=1.33->langchain-core<0.4.0,>=0.3.17->langchain-openai) (3.0.0)\n",
      "Requirement already satisfied: orjson<4.0.0,>=3.9.14 in /usr/local/lib/python3.10/dist-packages (from langsmith<0.2.0,>=0.1.125->langchain-core<0.4.0,>=0.3.17->langchain-openai) (3.10.11)\n",
      "Requirement already satisfied: requests-toolbelt<2.0.0,>=1.0.0 in /usr/local/lib/python3.10/dist-packages (from langsmith<0.2.0,>=0.1.125->langchain-core<0.4.0,>=0.3.17->langchain-openai) (1.0.0)\n",
      "Downloading pypdf-5.1.0-py3-none-any.whl (297 kB)\n",
      "\u001b[2K   \u001b[90m━━━━━━━━━━━━━━━━━━━━━━━━━━━━━━━━━━━━━━━━\u001b[0m \u001b[32m298.0/298.0 kB\u001b[0m \u001b[31m3.9 MB/s\u001b[0m eta \u001b[36m0:00:00\u001b[0m\n",
      "\u001b[?25hDownloading langchain_openai-0.2.9-py3-none-any.whl (50 kB)\n",
      "\u001b[2K   \u001b[90m━━━━━━━━━━━━━━━━━━━━━━━━━━━━━━━━━━━━━━━━\u001b[0m \u001b[32m50.4/50.4 kB\u001b[0m \u001b[31m4.7 MB/s\u001b[0m eta \u001b[36m0:00:00\u001b[0m\n",
      "\u001b[?25hDownloading tiktoken-0.8.0-cp310-cp310-manylinux_2_17_x86_64.manylinux2014_x86_64.whl (1.2 MB)\n",
      "\u001b[2K   \u001b[90m━━━━━━━━━━━━━━━━━━━━━━━━━━━━━━━━━━━━━━━━\u001b[0m \u001b[32m1.2/1.2 MB\u001b[0m \u001b[31m28.2 MB/s\u001b[0m eta \u001b[36m0:00:00\u001b[0m\n",
      "\u001b[?25hInstalling collected packages: pypdf, tiktoken, langchain-openai\n",
      "Successfully installed langchain-openai-0.2.9 pypdf-5.1.0 tiktoken-0.8.0\n"
     ]
    }
   ],
   "source": [
    "!pip install requests pypdf openai langchain-openai"
   ]
  },
  {
   "cell_type": "code",
   "execution_count": 9,
   "metadata": {
    "colab": {
     "base_uri": "https://localhost:8080/",
     "height": 174
    },
    "id": "ifKqZdHYCShW",
    "outputId": "42fdf122-9953-4c12-8cc3-e464a76d9806"
   },
   "outputs": [
    {
     "data": {
      "application/vnd.google.colaboratory.intrinsic+json": {
       "type": "string"
      },
      "text/plain": [
       "'Advance Access Publication 8 February 2009 eCAM 2010;7(2)167–168\\ndoi:10.1093/ecam/nep006\\nCommentary\\nWHO Standard Acupuncture Point Locations\\nSabina Lim1,2,3\\n1Division of Acupuncture & Meridian, WHO Collaborating Center for Traditional Medicine, East-West Medical\\nResearch Institute, 2Department of Applied Eastern Medicine, Graduate School and3Department of Meridian and\\nAcupuncture, Graduate School of Basic Eastern Medical Science, Kyung Hee University, Seoul, South Korea\\n‘WHO Standard Acupuncture Point Locations in the Western Pacific Region(WHO Standard)\\nwas released in 2008. Initially, there were 92/361 controversial acupuncture points (acupoints).\\nThrough seven informal consultations and four task force team meetings, 86 points were agreed\\nupon among the 92 controversial acupoints, leaving 6 remaining controversial acupoints,\\ndemanding active research in the future. This will enhance the reproducibility and validity of\\nacupuncture studies. It will also lead to a better understanding of acupuncture mechanisms in\\norder to optimize its clinical efficacy for a range of diseases and syndromes. This book has two\\nparts: General Guidelines for Acupuncture Point Locations and WHO Standard Acupuncture\\nPoint Locations. First of all, familiarity with the General Guidelines for Acupuncture Point\\nLocations in this book can help the reader to understand and use the contents of this book in\\ndepth. I would like to thank all of the participating experts and scholars for this great work,\\nwho have overcome the limits of previous acupuncture references. I also appreciate the\\ndedicated effort and harmonious leadership of Dr Choi Seung-hoon, former Regional Adviser\\nin Traditional Medicine of Western Pacific Office, WHO.\\nKeywords: acupoint – eastern medicine – traditional medicine\\nAs acupuncture therapy has become an important\\ncomponent of Complementary and Alternative Medicine\\nthroughout the world, there have been many efforts to\\nbring scientific rigor in understanding the mechanisms\\nbehind and evidence-based efficacy of acupuncture\\ntherapy. While there is extensive literature on acupunc-\\nture in scientific journals of high standard, the discipline\\nstill suffers from a lack of verifiable standards and\\nsystematic methodology for reproducing and validating\\nindividual studies. An examination of the literature shows\\nthat the locations of acupoints and the particular\\nmethods of acupuncture stimulation are diverse among\\nindividual research reports. These problems lead to\\nambiguity in conclusions for any meta-analysis and\\nresult from the lack of a common protocol on\\nacupuncture-related studies. Thus, there has been a\\nneed to standardize acupuncture point (acupoint) loca-\\ntions so as to form a consensus on research methods.\\nIn October 2003, the first Informal Consultation on the\\nDevelopment of WHO Standard of Acupuncture Point\\nLocations was convened. As each Member State has its\\nown initiatives and traditions, in the beginning it seemed\\nalmost impossible to establish international standardiza-\\ntion. Fortunately, through seven informal consultations\\nand four task force team meetings, the experts reached\\na consensus on many points. In the end, 86 of the\\n92 controversial points (among 361 total acupoints) were\\nstandardized.\\nThis standardization will enhance the reliability and\\nreproducibility of acupuncture studies, which in turn will\\nlead to a better understanding of acupuncture’s mecha-\\nnisms so as to ultimately optimize its clinical efficacy for\\na range of diseases and syndromes. Now a number of\\nFor reprints and all correspondence: Sabina Lim, MD, PhD, Professor\\nDepartment of Applied Eastern Medicine, Graduate School, Kyung\\nHee University, #47 Gyeonghuidae-gil, Dongdaemun-gu, Seoul, 130-\\n701, Korea. Tel: 82-2-961-0324; Fax: 82-2-961-7831;\\nE-mail: lims@khu.ac.kr\\n/C223The Author 2009. Published by Oxford University Press. All rights reserved. For Permissions, please email: journals.permissions@oxfordjournals.orgacupuncture-related journals will make it clear in their\\ninstructions that papers must follow thisWHO Standard\\nAcupuncture Point Locations in the Western Pacific\\nRegion(WHO Standard) (1). Therefore, researchers\\nand practitioners are encouraged to utilize the WHO\\nStandard to ease the review process of each journal and\\ninstitutional review boards (IRB).\\nFirst of all, familiarity with the General Guidelines for\\nAcupuncture Point Locations in this book can help the\\nreader to understand and use the contents of this book\\nin depth. These guidelines include essential terms and\\ndefinitions, which provide a very solid and clear overview\\nof the book. For acupoint locations, a vertical and\\nhorizontal coordinate method is adopted as often as\\npossible and employs modern anatomical terms consis-\\ntently, which helps the reader to select, find and use the\\nexact points. In addition, the anatomical landmark\\nmethod is used to provide absolute and accurate standards\\nfor locating acupoints. When it comes to cun, the standard\\nmeasuring unit, this book adopts the idea of separating\\nB-cun (Proportional bone cun) from F-cun (Finger cun)\\nwhich helps in the finding and measurement of more exact\\nlocations (2). The illustrations are quite simple, but very\\nclear and accurate and some amplified drawings are\\nincluded for more exact information. The ‘Notes’ section\\noffers supplementary explanations on key points, such as\\nan acupoint’s relationship with adjacent acupoints so that\\nreaders can understand their correlations and observe the\\ndifferences among different individuals. Despite the fact\\nthat 355 points were successfully standardized, there still\\nremain six controversial acupoints, which are described\\nas alternative acupoint locations under ‘Remarks’ and\\nremain an active research area in the future.\\nNow, based on these WHO Standard, acupuncture\\nresearchers are able to conduct their studies and also\\nshare more active and accurate scientific communications\\nin traditional medicine. With global standards and\\ninternational competitiveness, it will definitely help to\\nsolve ambiguity in conclusions for any meta-analysis and\\nestablish a common protocol in acupoint locations. In the\\nnear future, I believe we can expect more evidence-based\\nclinical efficacy for acupuncture therapy and make\\nEastern medicine more accessible and valuable in\\nhuman health care.\\nThe success of this collaboration is attributed to all the\\nexperts and scholars especially from China, Japan and\\nKorea, who have finally agreed to reach a consensus\\ndespite all the different traditions and backgrounds they\\nhave. Once again, I would like to thank all the partic-\\nipants for another great accomplishment, which has\\npaved the way for a new era of acupuncture study and\\ntherapy. I also appreciate the dedicated efforts and\\nharmonious leadership of Dr Choi Seung-hoon, former\\nRegional Adviser (2003–08) in Traditional Medicine of\\nWestern Pacific Office, WHO. Traditional medicine in\\nEast Asia has been divided by regional groups, such as\\nTCM (traditional Chinese medicine), Kampo medicine\\n(Japan), TKM (traditional Korean medicine), etc.\\nHowever, Dr Choi’s enthusiasm for traditional medicine\\nand insight into the future helped to integrate all of these\\ngroups and develop Eastern medicine.\\nAnother guide book on acupoints called ‘ Standard\\nAcupuncture Nomenclature ’ (second edition) (3) was\\npublished in 1993. This includes the standardized name\\nof each classical point, a brief explanation of the name\\nof the point and a multilingual comparative list of\\nthe names of the point (http://www.wpro.who.int/\\npublications/pub_9290611057.htm). In 2007, ‘ WHO\\nInternational Standard Terminologies on Traditional\\nMedicine in the Western Pacific Region’ (4), which\\ncontributes to standardization and globalization of\\ntraditional medicine, was published and it is still freely\\naccessible on the WHO Website. (http://www.wpro.\\nwho.int/NR/rdonlyres/14B298C6-518D-4C00-BE02-FC31\\nEADE3791/0/WHOIST_26JUNE_FINAL.pdf).\\nReferences\\n1. WHO Regional Office for the Western Pacific. WHO Standard\\nAcupuncture Point Locations in the Western Pacific Region. Manila:\\nWorld Health Organization, 2008.\\n2. Yin CS, Park HJ, Seo JC, Lim S, Koh HG. Evaluation of the cun\\nmeasurement system of acupuncture point location.Am J Chin Med\\n2005;33:729–35.\\n3. WHO Regional Office for the Western Pacific. Standardized\\nNomenclature for Acupuncture . Manila: World Health\\nOrganization, 1993.\\n4. WHO Regional Office for the Western Pacific.WHO International\\nStandard Terminologies on Traditional Medicine in the Western\\nPacific Region. Manila: World Health Organization, 2007.\\nReceived December 10, 2008; accepted January 12, 2009\\n168 WHO standard acupuncture point locations\\n 4747, 2010, 2, Downloaded from https://onlinelibrary.wiley.com/doi/10.1093/ecam/nep006 by CAPES, Wiley Online Library on [23/11/2024]. See the Terms and Conditions (https://onlinelibrary.wiley.com/terms-and-conditions) on Wiley Online Library for rules of use; OA articles are governed by the applicable Creative Commons License\\n'"
      ]
     },
     "execution_count": 9,
     "metadata": {},
     "output_type": "execute_result"
    }
   ],
   "source": [
    "from pypdf import PdfReader\n",
    "\n",
    "def extract_text_from_pdf(pdf_path):\n",
    "    reader = PdfReader(pdf_path)\n",
    "    text = \"\"\n",
    "    for page in reader.pages:\n",
    "        text += page.extract_text()\n",
    "    return text\n",
    "\n",
    "extract_text_from_pdf(\"/content/who_acupuncture_point.pdf\")"
   ]
  },
  {
   "cell_type": "code",
   "execution_count": null,
   "metadata": {
    "id": "wrGNGGyrJ2mZ"
   },
   "outputs": [],
   "source": [
    "import requests\n",
    "from langchain_openai.chat_models.azure import AzureChatOpenAI\n",
    "\n",
    "client = AzureChatOpenAI(\n",
    "    azure_endpoint=\"seu-endpoint\",\n",
    "    api_key=\"sua-chave\",\n",
    "    api_version=\"2024-08-01-preview\",\n",
    "    deployment_name=\"gpt-4o-mini\",\n",
    "    max_retries=0\n",
    ")\n",
    "\n",
    "def translate_pdf_file(text, lang):\n",
    "\n",
    "    messages = [\n",
    "        (\"system\", \"You are a translator\"),\n",
    "        # (\"user\", f\"Translate this {text} into {lang} and answer in markdown format.\")\n",
    "        (\"user\", f\"Translate this {text} into {lang} and answer in txt format.\")\n",
    "    ]\n",
    "\n",
    "    response = client.invoke(messages)\n",
    "    return response.content\n"
   ]
  },
  {
   "cell_type": "code",
   "execution_count": 36,
   "metadata": {
    "colab": {
     "base_uri": "https://localhost:8080/",
     "height": 174
    },
    "id": "CJ2qszpEPVn-",
    "outputId": "0e708137-b289-4770-84e8-66c59b922ade"
   },
   "outputs": [
    {
     "data": {
      "application/vnd.google.colaboratory.intrinsic+json": {
       "type": "string"
      },
      "text/plain": [
       "'**Publicação de Acesso Antecipado 8 de fevereiro de 2009 eCAM 2010;7(2)167–168**  \\ndoi:10.1093/ecam/nep006  \\n**Comentário**  \\n**Locais Padrão de Pontos de Acupuntura da OMS**  \\nSabina Lim1,2,3  \\n1Divisão de Acupuntura e Meridianos, Centro Colaborativo da OMS para Medicina Tradicional, Instituto de Pesquisa Médica Leste-Oeste, 2Departamento de Medicina Oriental Aplicada, Escola de Pós-Graduação e 3Departamento de Meridianos e Acupuntura, Escola de Pós-Graduação em Ciências Médicas Orientais Básicas, Universidade Kyung Hee, Seul, Coreia do Sul  \\n\\nOs \"Locais Padrão de Pontos de Acupuntura da OMS na Região do Pacífico Ocidental (Padrão da OMS)\" foram lançados em 2008. Inicialmente, havia 92 dos 361 pontos de acupuntura controversos. Através de sete consultas informais e quatro reuniões da equipe de força-tarefa, 86 pontos foram acordados entre os 92 pontos controversos, restando 6 pontos de acupuntura controversos, que demandam pesquisa ativa no futuro. Isso aumentará a reprodutibilidade e validade dos estudos de acupuntura. Também levará a uma melhor compreensão dos mecanismos da acupuntura, a fim de otimizar sua eficácia clínica para uma variedade de doenças e síndromes. Este livro possui duas partes: Diretrizes Gerais para Locais de Pontos de Acupuntura e Locais Padrão de Pontos de Acupuntura da OMS. Antes de tudo, a familiaridade com as Diretrizes Gerais para Locais de Pontos de Acupuntura neste livro pode ajudar o leitor a entender e usar o conteúdo do livro em profundidade. Agradeço a todos os especialistas e acadêmicos participantes por este grande trabalho, que superaram os limites das referências anteriores sobre acupuntura. Também aprecio o esforço dedicado e a liderança harmoniosa do Dr. Choi Seung-hoon, ex-Consultor Regional em Medicina Tradicional do Escritório da OMS para o Pacífico Ocidental.\\n\\n**Palavras-chave:** ponto de acupuntura – medicina oriental – medicina tradicional  \\n\\nComo a terapia de acupuntura se tornou um componente importante da Medicina Complementar e Alternativa em todo o mundo, houve muitos esforços para trazer rigor científico na compreensão dos mecanismos por trás e da eficácia baseada em evidências da terapia de acupuntura. Embora haja uma extensa literatura sobre acupuntura em revistas científicas de alto padrão, a disciplina ainda sofre com a falta de padrões verificáveis e metodologia sistemática para reproduzir e validar estudos individuais. Um exame da literatura mostra que as localizações dos pontos de acupuntura e os métodos particulares de estimulação de acupuntura são diversos entre relatórios de pesquisa individuais. Esses problemas levam a ambiguidade nas conclusões de qualquer meta-análise e resultam da falta de um protocolo comum em estudos relacionados à acupuntura. Assim, houve a necessidade de padronizar as localizações dos pontos de acupuntura para formar um consenso sobre os métodos de pesquisa. Em outubro de 2003, a primeira Consulta Informal sobre o Desenvolvimento do Padrão da OMS para Localizações de Pontos de Acupuntura foi convocada. Como cada Estado Membro possui suas próprias iniciativas e tradições, no início parecia quase impossível estabelecer uma padronização internacional. Felizmente, através de sete consultas informais e quatro reuniões da equipe de força-tarefa, os especialistas chegaram a um consenso sobre muitos pontos. No final, 86 dos 92 pontos controversos (entre um total de 361 pontos de acupuntura) foram padronizados.\\n\\nEssa padronização aumentará a confiabilidade e reprodutibilidade dos estudos de acupuntura, o que, por sua vez, levará a uma melhor compreensão dos mecanismos da acupuntura, a fim de, em última análise, otimizar sua eficácia clínica para uma variedade de doenças e síndromes. Agora, um número de revistas relacionadas à acupuntura deixará claro em suas instruções que os artigos devem seguir este Padrão da OMS para Locais de Pontos de Acupuntura na Região do Pacífico Ocidental (Padrão da OMS). Portanto, pesquisadores e praticantes são incentivados a utilizar o Padrão da OMS para facilitar o processo de revisão de cada revista e dos conselhos de revisão institucional (IRB).\\n\\nEm primeiro lugar, a familiaridade com as Diretrizes Gerais para Locais de Pontos de Acupuntura neste livro pode ajudar o leitor a compreender e usar o conteúdo deste livro em profundidade. Essas diretrizes incluem termos e definições essenciais, que fornecem uma visão geral muito sólida e clara do livro. Para as localizações de pontos de acupuntura, um método de coordenadas verticais e horizontais é adotado sempre que possível e emprega termos anatômicos modernos de forma consistente, o que ajuda o leitor a selecionar, encontrar e usar os pontos exatos. Além disso, o método de marco anatômico é utilizado para fornecer padrões absolutos e precisos para localizar os pontos de acupuntura. Quando se trata de cun, a unidade de medida padrão, este livro adota a ideia de separar B-cun (cun ósseo proporcional) de F-cun (cun de dedo), o que ajuda na busca e medição de localizações mais exatas. As ilustrações são bastante simples, mas muito claras e precisas, e alguns desenhos ampliados estão incluídos para informações mais exatas. A seção \"Notas\" oferece explicações suplementares sobre pontos-chave, como a relação de um ponto de acupuntura com pontos adjacentes, de modo que os leitores possam entender suas correlações e observar as diferenças entre diferentes indivíduos. Apesar do fato de que 355 pontos foram padronizados com sucesso, ainda permanecem seis pontos de acupuntura controversos, que são descritos como localizações alternativas de pontos de acupuntura nas \"Observações\" e permanecem uma área de pesquisa ativa no futuro.\\n\\nAgora, com base neste padrão da OMS, os pesquisadores em acupuntura podem conduzir seus estudos e também compartilhar comunicações científicas mais ativas e precisas em medicina tradicional. Com padrões globais e competitividade internacional, isso ajudará definitivamente a resolver a ambiguidade nas conclusões de qualquer meta-análise e estabelecer um protocolo comum nas localizações de pontos de acupuntura. No futuro próximo, acredito que podemos esperar mais eficácia clínica baseada em evidências para a terapia de acupuntura e tornar a medicina oriental mais acessível e valiosa nos cuidados de saúde humanos.\\n\\nO sucesso dessa colaboração é atribuído a todos os especialistas e acadêmicos, especialmente da China, Japão e Coreia, que finalmente concordaram em chegar a um consenso, apesar de todas as diferentes tradições e origens que possuem. Mais uma vez, gostaria de agradecer a todos os participantes por mais uma grande conquista, que abriu caminho para uma nova era de estudo e terapia da acupuntura. Também aprecio os esforços dedicados e a liderança harmoniosa do Dr. Choi Seung-hoon, ex-Consultor Regional (2003–08) em Medicina Tradicional do Escritório da OMS para o Pacífico Ocidental. A medicina tradicional na Ásia Oriental foi dividida por grupos regionais, como TCM (medicina tradicional chinesa), medicina Kampo (Japão), TKM (medicina tradicional coreana), etc. No entanto, o entusiasmo do Dr. Choi pela medicina tradicional e sua visão para o futuro ajudaram a integrar todos esses grupos e desenvolver a medicina oriental.\\n\\nOutro guia sobre pontos de acupuntura chamado \"Nomenclatura Padrão de Acupuntura\" (segunda edição) foi publicado em 1993. Isso inclui o nome padronizado de cada ponto clássico, uma breve explicação do nome do ponto e uma lista comparativa multilíngue dos nomes do ponto. Em 2007, \"Termos Padrão Internacionais da OMS sobre Medicina Tradicional na Região do Pacífico Ocidental\", que contribui para a padronização e globalização da medicina tradicional, foi publicado e ainda está acessível gratuitamente no site da OMS.\\n\\n**Referências**  \\n1. Escritório Regional da OMS para o Pacífico Ocidental. Locais Padrão de Pontos de Acupuntura da OMS na Região do Pacífico Ocidental. Manila: Organização Mundial da Saúde, 2008.  \\n2. Yin CS, Park HJ, Seo JC, Lim S, Koh HG. Avaliação do sistema de medida cun para localização de pontos de acupuntura. Am J Chin Med 2005;33:729–35.  \\n3. Escritório Regional da OMS para o Pacífico Ocidental. Nomenclatura Padronizada para Acupuntura. Manila: Organização Mundial da Saúde, 1993.  \\n4. Escritório Regional da OMS para o Pacífico Ocidental. Termos Padrão Internacionais da OMS sobre Medicina Tradicional na Região do Pacífico Ocidental. Manila: Organização Mundial da Saúde, 2007.  \\n\\nRecebido em 10 de dezembro de 2008; aceito em 12 de janeiro de 2009.'"
      ]
     },
     "execution_count": 36,
     "metadata": {},
     "output_type": "execute_result"
    }
   ],
   "source": [
    "path = \"/content/who_acupuncture_point.pdf\"\n",
    "lang = \"pt-br\"\n",
    "translate_pdf_file(extract_text_from_pdf(path), lang)"
   ]
  }
 ],
 "metadata": {
  "colab": {
   "provenance": []
  },
  "kernelspec": {
   "display_name": "Python 3",
   "name": "python3"
  },
  "language_info": {
   "name": "python"
  }
 },
 "nbformat": 4,
 "nbformat_minor": 0
}
