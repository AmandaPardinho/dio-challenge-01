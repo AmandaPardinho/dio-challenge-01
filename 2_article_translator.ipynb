{
 "cells": [
  {
   "cell_type": "code",
   "execution_count": 1,
   "metadata": {
    "colab": {
     "base_uri": "https://localhost:8080/"
    },
    "executionInfo": {
     "elapsed": 9490,
     "status": "ok",
     "timestamp": 1732391860739,
     "user": {
      "displayName": "Amanda Pardinho",
      "userId": "09220950040806037153"
     },
     "user_tz": 180
    },
    "id": "1Tl2E_kkVu_7",
    "outputId": "b19f7480-1b8d-4460-e88a-8b9a275c3b74"
   },
   "outputs": [
    {
     "name": "stdout",
     "output_type": "stream",
     "text": [
      "Requirement already satisfied: requests in /usr/local/lib/python3.10/dist-packages (2.32.3)\n",
      "Requirement already satisfied: beautifulsoup4 in /usr/local/lib/python3.10/dist-packages (4.12.3)\n",
      "Requirement already satisfied: openai in /usr/local/lib/python3.10/dist-packages (1.54.4)\n",
      "Collecting langchain-openai\n",
      "  Downloading langchain_openai-0.2.9-py3-none-any.whl.metadata (2.6 kB)\n",
      "Requirement already satisfied: charset-normalizer<4,>=2 in /usr/local/lib/python3.10/dist-packages (from requests) (3.4.0)\n",
      "Requirement already satisfied: idna<4,>=2.5 in /usr/local/lib/python3.10/dist-packages (from requests) (3.10)\n",
      "Requirement already satisfied: urllib3<3,>=1.21.1 in /usr/local/lib/python3.10/dist-packages (from requests) (2.2.3)\n",
      "Requirement already satisfied: certifi>=2017.4.17 in /usr/local/lib/python3.10/dist-packages (from requests) (2024.8.30)\n",
      "Requirement already satisfied: soupsieve>1.2 in /usr/local/lib/python3.10/dist-packages (from beautifulsoup4) (2.6)\n",
      "Requirement already satisfied: anyio<5,>=3.5.0 in /usr/local/lib/python3.10/dist-packages (from openai) (3.7.1)\n",
      "Requirement already satisfied: distro<2,>=1.7.0 in /usr/local/lib/python3.10/dist-packages (from openai) (1.9.0)\n",
      "Requirement already satisfied: httpx<1,>=0.23.0 in /usr/local/lib/python3.10/dist-packages (from openai) (0.27.2)\n",
      "Requirement already satisfied: jiter<1,>=0.4.0 in /usr/local/lib/python3.10/dist-packages (from openai) (0.7.1)\n",
      "Requirement already satisfied: pydantic<3,>=1.9.0 in /usr/local/lib/python3.10/dist-packages (from openai) (2.9.2)\n",
      "Requirement already satisfied: sniffio in /usr/local/lib/python3.10/dist-packages (from openai) (1.3.1)\n",
      "Requirement already satisfied: tqdm>4 in /usr/local/lib/python3.10/dist-packages (from openai) (4.66.6)\n",
      "Requirement already satisfied: typing-extensions<5,>=4.11 in /usr/local/lib/python3.10/dist-packages (from openai) (4.12.2)\n",
      "Requirement already satisfied: langchain-core<0.4.0,>=0.3.17 in /usr/local/lib/python3.10/dist-packages (from langchain-openai) (0.3.19)\n",
      "Collecting tiktoken<1,>=0.7 (from langchain-openai)\n",
      "  Downloading tiktoken-0.8.0-cp310-cp310-manylinux_2_17_x86_64.manylinux2014_x86_64.whl.metadata (6.6 kB)\n",
      "Requirement already satisfied: exceptiongroup in /usr/local/lib/python3.10/dist-packages (from anyio<5,>=3.5.0->openai) (1.2.2)\n",
      "Requirement already satisfied: httpcore==1.* in /usr/local/lib/python3.10/dist-packages (from httpx<1,>=0.23.0->openai) (1.0.7)\n",
      "Requirement already satisfied: h11<0.15,>=0.13 in /usr/local/lib/python3.10/dist-packages (from httpcore==1.*->httpx<1,>=0.23.0->openai) (0.14.0)\n",
      "Requirement already satisfied: PyYAML>=5.3 in /usr/local/lib/python3.10/dist-packages (from langchain-core<0.4.0,>=0.3.17->langchain-openai) (6.0.2)\n",
      "Requirement already satisfied: jsonpatch<2.0,>=1.33 in /usr/local/lib/python3.10/dist-packages (from langchain-core<0.4.0,>=0.3.17->langchain-openai) (1.33)\n",
      "Requirement already satisfied: langsmith<0.2.0,>=0.1.125 in /usr/local/lib/python3.10/dist-packages (from langchain-core<0.4.0,>=0.3.17->langchain-openai) (0.1.143)\n",
      "Requirement already satisfied: packaging<25,>=23.2 in /usr/local/lib/python3.10/dist-packages (from langchain-core<0.4.0,>=0.3.17->langchain-openai) (24.2)\n",
      "Requirement already satisfied: tenacity!=8.4.0,<10.0.0,>=8.1.0 in /usr/local/lib/python3.10/dist-packages (from langchain-core<0.4.0,>=0.3.17->langchain-openai) (9.0.0)\n",
      "Requirement already satisfied: annotated-types>=0.6.0 in /usr/local/lib/python3.10/dist-packages (from pydantic<3,>=1.9.0->openai) (0.7.0)\n",
      "Requirement already satisfied: pydantic-core==2.23.4 in /usr/local/lib/python3.10/dist-packages (from pydantic<3,>=1.9.0->openai) (2.23.4)\n",
      "Requirement already satisfied: regex>=2022.1.18 in /usr/local/lib/python3.10/dist-packages (from tiktoken<1,>=0.7->langchain-openai) (2024.9.11)\n",
      "Requirement already satisfied: jsonpointer>=1.9 in /usr/local/lib/python3.10/dist-packages (from jsonpatch<2.0,>=1.33->langchain-core<0.4.0,>=0.3.17->langchain-openai) (3.0.0)\n",
      "Requirement already satisfied: orjson<4.0.0,>=3.9.14 in /usr/local/lib/python3.10/dist-packages (from langsmith<0.2.0,>=0.1.125->langchain-core<0.4.0,>=0.3.17->langchain-openai) (3.10.11)\n",
      "Requirement already satisfied: requests-toolbelt<2.0.0,>=1.0.0 in /usr/local/lib/python3.10/dist-packages (from langsmith<0.2.0,>=0.1.125->langchain-core<0.4.0,>=0.3.17->langchain-openai) (1.0.0)\n",
      "Downloading langchain_openai-0.2.9-py3-none-any.whl (50 kB)\n",
      "\u001b[2K   \u001b[90m━━━━━━━━━━━━━━━━━━━━━━━━━━━━━━━━━━━━━━━━\u001b[0m \u001b[32m50.4/50.4 kB\u001b[0m \u001b[31m3.1 MB/s\u001b[0m eta \u001b[36m0:00:00\u001b[0m\n",
      "\u001b[?25hDownloading tiktoken-0.8.0-cp310-cp310-manylinux_2_17_x86_64.manylinux2014_x86_64.whl (1.2 MB)\n",
      "\u001b[2K   \u001b[90m━━━━━━━━━━━━━━━━━━━━━━━━━━━━━━━━━━━━━━━━\u001b[0m \u001b[32m1.2/1.2 MB\u001b[0m \u001b[31m19.7 MB/s\u001b[0m eta \u001b[36m0:00:00\u001b[0m\n",
      "\u001b[?25hInstalling collected packages: tiktoken, langchain-openai\n",
      "Successfully installed langchain-openai-0.2.9 tiktoken-0.8.0\n"
     ]
    }
   ],
   "source": [
    "!pip install requests beautifulsoup4 openai langchain-openai"
   ]
  },
  {
   "cell_type": "code",
   "execution_count": 4,
   "metadata": {
    "colab": {
     "base_uri": "https://localhost:8080/",
     "height": 140
    },
    "executionInfo": {
     "elapsed": 419,
     "status": "ok",
     "timestamp": 1732392673255,
     "user": {
      "displayName": "Amanda Pardinho",
      "userId": "09220950040806037153"
     },
     "user_tz": 180
    },
    "id": "qsTN4gyFmhW2",
    "outputId": "d095ccd5-c036-45e5-d9fe-5b06d54d2156"
   },
   "outputs": [
    {
     "data": {
      "application/vnd.google.colaboratory.intrinsic+json": {
       "type": "string"
      },
      "text/plain": [
       "\"20\\nFree\\nAPIs\\nto\\nKickstart\\nYour\\nSide\\nProjects\\n-\\nDEV\\nCommunity\\nSkip\\nto\\ncontent\\nNavigation\\nmenu\\nSearch\\nPowered\\nby\\nSearch\\nAlgolia\\nSearch\\nLog\\nin\\nCreate\\naccount\\nDEV\\nCommunity\\nClose\\nAdd\\nreaction\\nLike\\nUnicorn\\nExploding\\nHead\\nRaised\\nHands\\nFire\\nJump\\nto\\nComments\\nSave\\nMore...\\nCopy\\nlink\\nCopy\\nlink\\nCopied\\nto\\nClipboard\\nShare\\nto\\nX\\nShare\\nto\\nLinkedIn\\nShare\\nto\\nFacebook\\nShare\\nto\\nMastodon\\nReport\\nAbuse\\nBalraj\\nSingh\\nPosted\\non\\nNov\\n22\\n20\\nFree\\nAPIs\\nto\\nKickstart\\nYour\\nSide\\nProjects\\n#\\napi\\n#\\nbeginners\\n#\\nproductivity\\n#\\nlearning\\nHere’s\\na\\ncurated\\nlist\\nof\\n20\\nfree\\nAPIs\\nthat\\ncan\\ntransform\\nyour\\nside\\nprojects,\\nwhether\\nyou’re\\nbuilding\\na\\nsimple\\napp,\\nexperimenting\\nwith\\nAI,\\nor\\njust\\ntrying\\nsomething\\nnew.\\n1.\\nOpenAI\\nAPI\\n(Free\\nTier)\\nCreate\\nsmarter,\\nmore\\ninteractive\\napplications\\nwith\\nAI\\nat\\ntheir\\ncore.\\nOpenAI’s\\nGPT\\nmodels\\ncan\\nhandle\\ntasks\\nlike\\nwriting\\ntext,\\nsummarizing\\narticles,\\nand\\neven\\ngenerating\\ncode.\\nTheir\\nfree\\ntier\\nis\\nperfect\\nfor\\nsmall\\nexperiments\\nand\\nside\\nprojects.\\nUse\\nit\\nfor:\\nPersonal\\nchatbots,\\nproductivity\\ntools,\\nor\\nquirky\\ntext-based\\ngames.\\nhttps://platform.openai.com/docs/overview\\n2.\\nUnsplash\\nAPI\\nDesigners\\nand\\ndevelopers,\\nthis\\none’s\\nfor\\nyou.\\nWith\\nUnsplash’s\\nAPI,\\nyou\\nget\\naccess\\nto\\na\\ntreasure\\ntrove\\nof\\nhigh-quality,\\nroyalty-free\\nimages\\nto\\nuse\\nin\\nyour\\nprojects.\\nUse\\nit\\nfor:\\nStunning\\nblog\\nvisuals,\\nphotography\\napps,\\nor\\ncreative\\nportfolios.\\nhttps://unsplash.com/developers\\n3.\\nWeatherAPI\\nWeather\\ndata\\ndoesn’t\\nget\\nmore\\ncomprehensive\\nthan\\nthis.\\nReal-time\\nweather\\nupdates,\\nhistorical\\ndata,\\nand\\neven\\nadvanced\\nfeatures\\nlike\\nair\\nquality\\nor\\nastronomy\\ninsights—all\\nat\\nyour\\nfingertips.\\nUse\\nit\\nfor:\\nWeather\\ndashboards,\\ntrip\\nplanners,\\nor\\nIoT\\nintegrations.\\nhttps://www.weatherapi.com/\\n4.\\nSpotify\\nWeb\\nAPI\\nTurn\\nyour\\napp\\ninto\\na\\nmusic\\nlover’s\\nparadise.\\nFrom\\nplaylists\\nto\\nalbum\\ndetails,\\nSpotify’s\\nAPI\\ngives\\nyou\\naccess\\nto\\nan\\nincredible\\ndatabase\\nof\\nmusic\\nmetadata.\\nUse\\nit\\nfor:\\nPersonalized\\nplaylists,\\nmusic\\nvisualizers,\\nor\\ndiscovery\\ntools.\\nhttps://developer.spotify.com/documentation/web-api\\n5.\\nNASA\\nAPIs\\nDreaming\\nof\\nspace?\\nNASA’s\\nfree\\nAPIs\\ninclude\\neverything\\nfrom\\nMars\\nrover\\nphotos\\nto\\nsatellite\\nimagery\\nand\\ncelestial\\nevents.\\nIt’s\\nlike\\na\\nbackstage\\npass\\nto\\nthe\\ncosmos.\\nUse\\nit\\nfor:\\nEducational\\napps,\\nastronomy\\ntrackers,\\nor\\nsci-fi-inspired\\nvisuals.\\nhttps://api.nasa.gov/\\n6.\\nThe\\nMovie\\nDatabase\\n(TMDB)\\nAPI\\nThis\\nAPI\\nserves\\nup\\ndetailed\\ninformation\\non\\nmovies,\\nTV\\nshows,\\nand\\ncelebrities.\\nPlus,\\nit\\nincludes\\nhigh-quality\\nposters\\nand\\nfan\\nart.\\nUse\\nit\\nfor:\\nEntertainment\\napps,\\ntrivia\\ngames,\\nor\\nrecommendation\\nsystems.\\nhttps://developer.themoviedb.org/reference/intro/getting-started\\n7.\\nNewsAPI\\nBring\\nbreaking\\nnews\\nto\\nyour\\napp\\nwith\\nreal-time\\narticles\\nfrom\\nthousands\\nof\\nsources.\\nFilter\\nby\\nlanguage,\\ncategory,\\nor\\nregion\\nto\\nkeep\\ncontent\\nrelevant.\\nUse\\nit\\nfor:\\nNews\\naggregators,\\ntrend\\ntrackers,\\nor\\nsentiment\\nanalysis\\ntools.\\nhttps://newsapi.org/\\n8.\\nREST\\nCountries\\nAPI\\nAll\\nthe\\ndata\\nyou’ll\\never\\nneed\\nabout\\nthe\\nworld’s\\nnations—from\\npopulation\\nand\\nGDP\\nto\\nflags\\nand\\ncalling\\ncodes.\\nUse\\nit\\nfor:\\nTravel\\nplanners,\\nworld\\ngeography\\nquizzes,\\nor\\nglobal\\nstats\\ndashboards.\\nhttps://restcountries.com/\\n9.\\nOpenLibrary\\nAPI\\nCalling\\nall\\nbookworms!\\nOpenLibrary’s\\nAPI\\nprovides\\nmetadata\\non\\nmillions\\nof\\nbooks,\\nincluding\\nauthors,\\ngenres,\\nand\\npublication\\nyears.\\nUse\\nit\\nfor:\\nBook\\nreview\\nplatforms,\\nreading\\ntrackers,\\nor\\nliterary\\ndiscovery\\napps.\\nhttps://openlibrary.org/developers/api\\n10.\\nRandom\\nUser\\nGenerator\\nAPI\\nNeed\\ndummy\\ndata\\nto\\ntest\\nyour\\nproject?\\nThis\\nAPI\\ncreates\\nrandom\\nuser\\nprofiles\\ncomplete\\nwith\\nphotos,\\nnames,\\nand\\neven\\nfake\\naddresses.\\nUse\\nit\\nfor:\\nUI\\ntesting,\\nprototype\\ndemos,\\nor\\napp\\nmockups.\\nhttps://randomuser.me/\\n11.\\nPokeAPI\\nWhether\\nyou’re\\nnostalgic\\nfor\\nPokémon\\nor\\njust\\nlove\\nbuilding\\ngaming\\napps,\\nthis\\nAPI\\nhas\\nall\\nthe\\ndata\\nyou\\nneed—from\\nPokémon\\nstats\\nto\\nmove\\nsets\\nand\\nabilities.\\nUse\\nit\\nfor:\\nGames,\\ntrivia\\napps,\\nor\\nnostalgic\\nside\\nhustles.\\nhttps://pokeapi.co/\\n12.\\nOpenWeatherMap\\nAPI\\nWeather\\nwidgets,\\napps,\\nand\\ntrackers\\nhave\\nnever\\nbeen\\neasier.\\nThis\\nAPI\\nsimplifies\\nfetching\\nreal-time\\nand\\nforecasted\\nweather\\ndetails.\\nUse\\nit\\nfor:\\nCustom\\nweather\\ntrackers\\nor\\ntime-sensitive\\nnotifications.\\nhttps://openweathermap.org/api\\n13.\\nPublic\\nHolidays\\nAPI\\nNever\\nmiss\\na\\nday\\noff\\nagain.\\nGet\\npublic\\nholiday\\ndata\\nfor\\nalmost\\nany\\ncountry\\naround\\nthe\\nworld\\nwith\\njust\\na\\nfew\\nAPI\\ncalls.\\nUse\\nit\\nfor:\\nEvent\\nplanners,\\npayroll\\nsoftware,\\nor\\ncalendar\\napps.\\nhttps://www.openholidaysapi.org/en/\\n14.\\nQR\\nCode\\nGenerator\\nAPI\\nQuickly\\ncreate\\ndynamic\\nQR\\ncodes\\nfor\\nyour\\napps,\\nwebsites,\\nor\\ncampaigns\\nwith\\nthis\\nsimple\\nyet\\npowerful\\nAPI.\\nUse\\nit\\nfor:\\nMarketing\\ntools,\\nticketing\\nsystems,\\nor\\ncontactless\\ninteractions.\\nhttps://goqr.me/api/\\n15.\\nAgify\\nAPI\\nWant\\nto\\npredict\\nsomeone’s\\nage\\nbased\\non\\ntheir\\nfirst\\nname?\\nAgify\\nuses\\ndata\\nscience\\nto\\nmake\\neerily\\naccurate\\nguesses.\\nUse\\nit\\nfor:\\nFun\\nexperiments,\\ndemographic\\nanalysis,\\nor\\nquirky\\napp\\nfeatures.\\nhttps://agify.io/\\n16.\\nExchangeRate-API\\nTrack\\ncurrency\\nconversions\\nin\\nreal-time\\nwith\\nthis\\nlightweight\\nand\\nbeginner-friendly\\nAPI.\\nUse\\nit\\nfor:\\nTravel\\ncalculators,\\nfinance\\ndashboards,\\nor\\nbudgeting\\napps.\\nhttps://www.exchangerate-api.com/\\n17.\\nIP\\nGeolocation\\nAPI\\nThis\\nAPI\\ntakes\\nan\\nIP\\naddress\\nand\\nreturns\\ndetailed\\nlocation\\ndata,\\nmaking\\nit\\neasy\\nto\\npersonalize\\nuser\\nexperiences.\\nUse\\nit\\nfor:\\nLocalization,\\nanalytics\\ntools,\\nor\\nenhanced\\nsecurity.\\nhttps://geo.ipify.org/\\n18.\\nOpenCage\\nGeocoder\\nAPI\\nConvert\\ncoordinates\\ninto\\nreadable\\naddresses\\nor\\nvice\\nversa\\nwith\\nOpenCage’s\\naccurate\\ngeocoding\\ntools.\\nUse\\nit\\nfor:\\nMaps,\\ndelivery\\napps,\\nor\\ngeographic\\nanalysis.\\nhttps://opencagedata.com/\\n19.\\nJikan\\nAPI\\nIf\\nyou’re\\ninto\\nanime,\\nJikan\\nis\\nyour\\ngo-to\\nAPI.\\nIt\\npulls\\ndata\\nstraight\\nfrom\\nMyAnimeList,\\nincluding\\nanime,\\nmanga,\\nand\\ncharacter\\ndetails.\\nUse\\nit\\nfor:\\nAnime\\ntrackers,\\nrecommendation\\nengines,\\nor\\nfandom\\napps.\\nhttps://jikan.moe/\\n20.\\nOpen\\nBrewery\\nDB\\nA\\ndirectory\\nof\\nbreweries\\nworldwide,\\nright\\nat\\nyour\\nfingertips.\\nUse\\nit\\nfor:\\nBrewery\\nlocators,\\ntravel\\napps,\\nor\\njust\\nbeer-inspired\\nfun.\\nhttps://www.openbrewerydb.org/\\nThese\\nsave\\ntime,\\nreduce\\ncomplexity,\\nand\\nlet\\nyou\\nfocus\\non\\nwhat\\nmatters—your\\ncreative\\nideas.\\nWith\\nthis\\nlist,\\nyou’ve\\ngot\\neverything\\nyou\\nneed\\nto\\nstart\\nbuilding.\\nSo,\\nwhich\\nAPI\\nare\\nyou\\ntrying\\nfirst?\\nLet\\nme\\nknow\\nin\\nthe\\ncomments.\\nTop\\ncomments\\n(8)\\nSubscribe\\nPersonal\\nTrusted\\nUser\\nCreate\\ntemplate\\nTemplates\\nlet\\nyou\\nquickly\\nanswer\\nFAQs\\nor\\nstore\\nsnippets\\nfor\\nre-use.\\nSubmit\\nPreview\\nDismiss\\nCollapse\\nExpand\\nMichael\\nCameroon\\nMichael\\nCameroon\\nMichael\\nCameroon\\nFollow\\nJoined\\nMay\\n19,\\n2024\\n•\\nNov\\n23\\n•\\nEdited\\non\\nNov\\n23\\n•\\nEdited\\nDropdown\\nmenu\\nCopy\\nlink\\nHide\\nThis\\nis\\na\\nuseful\\narticle\\nform\\nBalraj.\\nI\\nalso\\nuse\\nfree\\nip2location.io\\nIP\\ngeolocation\\nAPI\\nfor\\nprojects.\\nLike\\ncomment:\\nLike\\ncomment:\\n1\\nlike\\nLike\\nComment\\nbutton\\nReply\\nCollapse\\nExpand\\nComment\\ndeleted\\nCollapse\\nExpand\\nComment\\ndeleted\\nComment\\ndeleted\\nCollapse\\nExpand\\nDanish\\nDanish\\nDanish\\nFollow\\nJoined\\nSep\\n2,\\n2024\\n•\\nNov\\n23\\nDropdown\\nmenu\\nCopy\\nlink\\nHide\\nThis\\nis\\nreally\\nhelpful!\\nThanks\\nfor\\nsharing\\nmate.\\nLike\\ncomment:\\nLike\\ncomment:\\n1\\nlike\\nLike\\nComment\\nbutton\\nReply\\nSome\\ncomments\\nmay\\nonly\\nbe\\nvisible\\nto\\nlogged-in\\nvisitors.\\nSign\\nin\\nto\\nview\\nall\\ncomments.\\nCode\\nof\\nConduct\\n•\\nReport\\nabuse\\nAre\\nyou\\nsure\\nyou\\nwant\\nto\\nhide\\nthis\\ncomment?\\nIt\\nwill\\nbecome\\nhidden\\nin\\nyour\\npost,\\nbut\\nwill\\nstill\\nbe\\nvisible\\nvia\\nthe\\ncomment's\\npermalink\\n.\\nHide\\nchild\\ncomments\\nas\\nwell\\nConfirm\\nFor\\nfurther\\nactions,\\nyou\\nmay\\nconsider\\nblocking\\nthis\\nperson\\nand/or\\nreporting\\nabuse\\nRead\\nnext\\nInline\\nClasses\\nin\\nKotlin:\\nWhy,\\nWhere,\\nand\\nHow\\nto\\nUse\\nThem\\nValerii\\nPopov\\n-\\nOct\\n28\\nUnlocking\\nSearch\\nRelevance:\\nLarge\\nLanguage\\nModels\\nPower\\nPinterest\\nDiscovery\\nMike\\nYoung\\n-\\nOct\\n28\\nEnterprise-Level\\nDeployment\\nand\\nOptimization\\nof\\nLLM\\nApplications:\\nA\\nProduction\\nPractice\\nGuide\\nBased\\non\\nLangChain\\nJames\\nLi\\n-\\nNov\\n20\\nsurviving\\ncoding\\nbootcamp:\\nlessons\\nlearned\\nAshley\\nD\\n-\\nOct\\n28\\nBalraj\\nSingh\\nFollow\\nSoftware\\nengineer\\nwith\\n10\\nyears\\nexperience\\ndeveloping\\nsimple\\n&\\nanti-fragile\\nsoftware\\nfor\\nhigh-volume\\nbusinesses.\\nImproved\\nMobile\\nApp's\\nstability\\nand\\nresponsiveness\\nby\\nincorporating\\npatterns\\n&\\npractice\\nWork\\nEngineer\\n@\\nMeta(Facebook)\\nJoined\\nJan\\n24,\\n2023\\nMore\\nfrom\\nBalraj\\nSingh\\nHow\\nto\\nMake\\nYour\\nWebsite\\nMobile-Friendly:\\nA\\nBeginner’s\\nGuide\\n#\\nwebdev\\n#\\nbeginners\\n#\\ntutorial\\n#\\nlearning\\nHow\\nto\\nPrepare\\nfor\\nYour\\nFirst\\nCoding\\nInterview:\\nA\\nRealistic\\nGuide\\n#\\nwebdev\\n#\\nbeginners\\n#\\ntutorial\\n#\\ncareer\\nCommon\\nMistakes\\nBeginners\\nMake\\nin\\nCoding\\nand\\nHow\\nto\\nAvoid\\nThem\\n#\\nwebdev\\n#\\nbeginners\\n#\\ntutorial\\n#\\ncoding\\nThank\\nyou\\nto\\nour\\nDiamond\\nSponsor\\nNeon\\nfor\\nsupporting\\nour\\ncommunity.\\nDEV\\nCommunity\\n—\\nA\\nconstructive\\nand\\ninclusive\\nsocial\\nnetwork\\nfor\\nsoftware\\ndevelopers.\\nWith\\nyou\\nevery\\nstep\\nof\\nyour\\njourney.\\nHome\\nDEV++\\nPodcasts\\nVideos\\nTags\\nDEV\\nHelp\\nForem\\nShop\\nAdvertise\\non\\nDEV\\nDEV\\nChallenges\\nDEV\\nShowcase\\nAbout\\nContact\\nFree\\nPostgres\\nDatabase\\nGuides\\nSoftware\\ncomparisons\\nCode\\nof\\nConduct\\nPrivacy\\nPolicy\\nTerms\\nof\\nuse\\nBuilt\\non\\nForem\\n—\\nthe\\nopen\\nsource\\nsoftware\\nthat\\npowers\\nDEV\\nand\\nother\\ninclusive\\ncommunities.\\nMade\\nwith\\nlove\\nand\\nRuby\\non\\nRails\\n.\\nDEV\\nCommunity\\n©\\n2016\\n-\\n2024.\\nWe're\\na\\nplace\\nwhere\\ncoders\\nshare,\\nstay\\nup-to-date\\nand\\ngrow\\ntheir\\ncareers.\\nLog\\nin\\nCreate\\naccount\""
      ]
     },
     "execution_count": 4,
     "metadata": {},
     "output_type": "execute_result"
    }
   ],
   "source": [
    "import requests\n",
    "from bs4 import BeautifulSoup\n",
    "\n",
    "def extract_text_from_url(url):\n",
    "    response = requests.get(url)\n",
    "\n",
    "    if response.status_code == 200:\n",
    "        soup = BeautifulSoup(response.text, 'html.parser')\n",
    "        for script_or_style in soup(['script', 'style']):\n",
    "            script_or_style.decompose()\n",
    "        text = soup.get_text(separator = ' ')\n",
    "        lines = (line.strip() for line in text.splitlines())\n",
    "        parts = (phrase.strip() for line in lines for phrase in line.split(\" \"))\n",
    "        clean_text = '\\n'.join(part for part in parts if part)\n",
    "        return clean_text\n",
    "    else:\n",
    "        print(f\"Failed to fetch the URL. Status code: {response.status_code}\")\n",
    "        return None\n",
    "\n",
    "    text = soup.get_text()\n",
    "    return text\n",
    "\n",
    "\n",
    "extract_text_from_url(\"https://dev.to/balrajola/20-free-apis-to-kickstart-your-side-projects-1f7i\")"
   ]
  },
  {
   "cell_type": "code",
   "execution_count": null,
   "metadata": {
    "colab": {
     "base_uri": "https://localhost:8080/"
    },
    "executionInfo": {
     "elapsed": 1080,
     "status": "ok",
     "timestamp": 1732395351828,
     "user": {
      "displayName": "Amanda Pardinho",
      "userId": "09220950040806037153"
     },
     "user_tz": 180
    },
    "id": "qqK5iU6hptE0",
    "outputId": "60941749-1315-4d54-b791-1c76f1dcbe29"
   },
   "outputs": [
    {
     "name": "stdout",
     "output_type": "stream",
     "text": [
      "```markdown\n",
      "A rápida raposa marrom salta sobre o cachorro preguiçoso.\n",
      "```\n"
     ]
    }
   ],
   "source": [
    "from langchain_openai.chat_models.azure import AzureChatOpenAI\n",
    "\n",
    "# Configuração do cliente Azure OpenAI\n",
    "client = AzureChatOpenAI(\n",
    "    azure_endpoint=\"seu-endpoint\",\n",
    "    api_key=\"sua-chave\",\n",
    "    api_version=\"2024-08-01-preview\",\n",
    "    deployment_name=\"gpt-4o-mini\",\n",
    "    max_retries=0\n",
    ")\n",
    "\n",
    "def translate_article(text, lang):\n",
    "    messages = [\n",
    "        (\"system\", \"You are a translator\"),\n",
    "        (\"user\", f\"Translate this {text} into {lang} and answer in markdown format\"),\n",
    "    ]\n",
    "\n",
    "    response = client.invoke(messages)\n",
    "    print(response.content)\n",
    "    return response.content\n",
    "\n",
    "# Teste da função de tradução\n",
    "translated_text = translate_article(\"The quick brown fox jumps over the lazy dog\", \"pt-BR\")\n",
    "#print(translated_text)"
   ]
  },
  {
   "cell_type": "code",
   "execution_count": 22,
   "metadata": {
    "colab": {
     "base_uri": "https://localhost:8080/",
     "height": 1000
    },
    "executionInfo": {
     "elapsed": 12997,
     "status": "ok",
     "timestamp": 1732395410981,
     "user": {
      "displayName": "Amanda Pardinho",
      "userId": "09220950040806037153"
     },
     "user_tz": 180
    },
    "id": "E0BD7R3uzG-V",
    "outputId": "d9aabb4e-b97a-44e8-c5d4-de68db1d7d27"
   },
   "outputs": [
    {
     "name": "stdout",
     "output_type": "stream",
     "text": [
      "```markdown\n",
      "# 20 APIs Grátis para Iniciar Seus Projetos Paralelos\n",
      "\n",
      "Aqui está uma lista selecionada de 20 APIs gratuitas que podem transformar seus projetos paralelos, seja você construindo um aplicativo simples, experimentando com IA ou apenas tentando algo novo.\n",
      "\n",
      "1. **OpenAI API (Camada Gratuita)**  \n",
      "   Crie aplicações mais inteligentes e interativas com IA no núcleo. Os modelos GPT da OpenAI podem lidar com tarefas como escrever textos, resumir artigos e até gerar código. A camada gratuita é perfeita para pequenos experimentos e projetos paralelos.  \n",
      "   Use para: Chatbots pessoais, ferramentas de produtividade ou jogos de texto criativos.  \n",
      "   [Link para a API](https://platform.openai.com/docs/overview)\n",
      "\n",
      "2. **Unsplash API**  \n",
      "   Designers e desenvolvedores, esta é para vocês. Com a API do Unsplash, você tem acesso a um tesouro de imagens de alta qualidade e royalty-free para usar em seus projetos.  \n",
      "   Use para: Visuais deslumbrantes para blogs, aplicativos de fotografia ou portfólios criativos.  \n",
      "   [Link para a API](https://unsplash.com/developers)\n",
      "\n",
      "3. **WeatherAPI**  \n",
      "   Dados de clima não ficam mais abrangentes do que isso. Atualizações em tempo real, dados históricos e até recursos avançados, como qualidade do ar ou insights astronômicos — tudo na ponta dos dedos.  \n",
      "   Use para: Painéis de clima, planejadores de viagens ou integrações de IoT.  \n",
      "   [Link para a API](https://www.weatherapi.com/)\n",
      "\n",
      "4. **Spotify Web API**  \n",
      "   Transforme seu aplicativo em um paraíso para amantes da música. Desde playlists até detalhes de álbuns, a API do Spotify oferece acesso a um incrível banco de dados de metadados musicais.  \n",
      "   Use para: Playlists personalizadas, visualizadores de música ou ferramentas de descoberta.  \n",
      "   [Link para a API](https://developer.spotify.com/documentation/web-api)\n",
      "\n",
      "5. **NASA APIs**  \n",
      "   Sonhando com o espaço? As APIs gratuitas da NASA incluem tudo, desde fotos do rover de Marte até imagens de satélites e eventos celestiais. É como um passe nos bastidores para o cosmos.  \n",
      "   Use para: Aplicativos educacionais, rastreadores de astronomia ou visuais inspirados em ficção científica.  \n",
      "   [Link para a API](https://api.nasa.gov/)\n",
      "\n",
      "6. **The Movie Database (TMDB) API**  \n",
      "   Esta API oferece informações detalhadas sobre filmes, programas de TV e celebridades. Além disso, inclui pôsteres de alta qualidade e arte de fãs.  \n",
      "   Use para: Aplicativos de entretenimento, jogos de trivia ou sistemas de recomendação.  \n",
      "   [Link para a API](https://developer.themoviedb.org/reference/intro/getting-started)\n",
      "\n",
      "7. **NewsAPI**  \n",
      "   Traga notícias de última hora para seu aplicativo com artigos em tempo real de milhares de fontes. Filtre por idioma, categoria ou região para manter o conteúdo relevante.  \n",
      "   Use para: Agregadores de notícias, rastreadores de tendências ou ferramentas de análise de sentimentos.  \n",
      "   [Link para a API](https://newsapi.org/)\n",
      "\n",
      "8. **REST Countries API**  \n",
      "   Todos os dados que você precisará sobre as nações do mundo — desde população e PIB até bandeiras e códigos de discagem.  \n",
      "   Use para: Planejadores de viagens, quizzes de geografia mundial ou painéis de estatísticas globais.  \n",
      "   [Link para a API](https://restcountries.com/)\n",
      "\n",
      "9. **OpenLibrary API**  \n",
      "   Chamando todos os amantes de livros! A API do OpenLibrary fornece metadados sobre milhões de livros, incluindo autores, gêneros e anos de publicação.  \n",
      "   Use para: Plataformas de resenha de livros, rastreadores de leitura ou aplicativos de descoberta literária.  \n",
      "   [Link para a API](https://openlibrary.org/developers/api)\n",
      "\n",
      "10. **Random User Generator API**  \n",
      "    Precisa de dados fictícios para testar seu projeto? Esta API cria perfis de usuários aleatórios completos com fotos, nomes e até endereços falsos.  \n",
      "    Use para: Testes de UI, demonstrações de protótipos ou maquetes de aplicativos.  \n",
      "    [Link para a API](https://randomuser.me/)\n",
      "\n",
      "11. **PokeAPI**  \n",
      "    Se você é nostálgico por Pokémon ou apenas ama construir aplicativos de jogos, esta API tem todos os dados que você precisa — desde estatísticas de Pokémon até conjuntos de movimentos e habilidades.  \n",
      "    Use para: Jogos, aplicativos de trivia ou atividades paralelas nostálgicas.  \n",
      "    [Link para a API](https://pokeapi.co/)\n",
      "\n",
      "12. **OpenWeatherMap API**  \n",
      "    Widgets, aplicativos e rastreadores de clima nunca foram tão fáceis. Esta API simplifica a obtenção de detalhes de clima em tempo real e previsões.  \n",
      "    Use para: Rastreadores de clima personalizados ou notificações sensíveis ao tempo.  \n",
      "    [Link para a API](https://openweathermap.org/api)\n",
      "\n",
      "13. **Public Holidays API**  \n",
      "    Nunca mais perca um dia de folga. Obtenha dados sobre feriados públicos para quase qualquer país do mundo com apenas algumas chamadas de API.  \n",
      "    Use para: Planejadores de eventos, software de folha de pagamento ou aplicativos de calendário.  \n",
      "    [Link para a API](https://www.openholidaysapi.org/en/)\n",
      "\n",
      "14. **QR Code Generator API**  \n",
      "    Crie rapidamente códigos QR dinâmicos para seus aplicativos, sites ou campanhas com esta API simples, mas poderosa.  \n",
      "    Use para: Ferramentas de marketing, sistemas de bilhetagem ou interações sem contato.  \n",
      "    [Link para a API](https://goqr.me/api/)\n",
      "\n",
      "15. **Agify API**  \n",
      "    Quer prever a idade de alguém com base no primeiro nome? A Agify usa ciência de dados para fazer palpites assustadoramente precisos.  \n",
      "    Use para: Experimentos divertidos, análise demográfica ou recursos de aplicativos peculiares.  \n",
      "    [Link para a API](https://agify.io/)\n",
      "\n",
      "16. **ExchangeRate-API**  \n",
      "    Acompanhe conversões de moeda em tempo real com esta API leve e amigável para iniciantes.  \n",
      "    Use para: Calculadoras de viagem, painéis financeiros ou aplicativos de orçamento.  \n",
      "    [Link para a API](https://www.exchangerate-api.com/)\n",
      "\n",
      "17. **IP Geolocation API**  \n",
      "    Esta API pega um endereço IP e retorna dados de localização detalhados, facilitando a personalização das experiências do usuário.  \n",
      "    Use para: Localização, ferramentas de análise ou segurança aprimorada.  \n",
      "    [Link para a API](https://geo.ipify.org/)\n",
      "\n",
      "18. **OpenCage Geocoder API**  \n",
      "    Converta coordenadas em endereços legíveis ou vice-versa com as ferramentas de geocodificação precisas da OpenCage.  \n",
      "    Use para: Mapas, aplicativos de entrega ou análise geográfica.  \n",
      "    [Link para a API](https://opencagedata.com/)\n",
      "\n",
      "19. **Jikan API**  \n",
      "    Se você é fã de anime, Jikan é sua API de referência. Ele puxa dados diretamente do MyAnimeList, incluindo detalhes de anime, mangá e personagens.  \n",
      "    Use para: Rastreadores de anime, motores de recomendação ou aplicativos de fandom.  \n",
      "    [Link para a API](https://jikan.moe/)\n",
      "\n",
      "20. **Open Brewery DB**  \n",
      "    Um diretório de cervejarias em todo o mundo, na ponta dos seus dedos.  \n",
      "    Use para: Localizadores de cervejarias, aplicativos de viagem ou apenas diversão inspirada em cerveja.  \n",
      "    [Link para a API](https://www.openbrewerydb.org/)\n",
      "\n",
      "Essas APIs economizam tempo, reduzem a complexidade e permitem que você se concentre no que realmente importa — suas ideias criativas. Com esta lista, você tem tudo o que precisa para começar a construir. Então, qual API você vai experimentar primeiro? Deixe-me saber nos comentários.\n",
      "```\n"
     ]
    },
    {
     "data": {
      "application/vnd.google.colaboratory.intrinsic+json": {
       "type": "string"
      },
      "text/plain": [
       "'```markdown\\n# 20 APIs Grátis para Iniciar Seus Projetos Paralelos\\n\\nAqui está uma lista selecionada de 20 APIs gratuitas que podem transformar seus projetos paralelos, seja você construindo um aplicativo simples, experimentando com IA ou apenas tentando algo novo.\\n\\n1. **OpenAI API (Camada Gratuita)**  \\n   Crie aplicações mais inteligentes e interativas com IA no núcleo. Os modelos GPT da OpenAI podem lidar com tarefas como escrever textos, resumir artigos e até gerar código. A camada gratuita é perfeita para pequenos experimentos e projetos paralelos.  \\n   Use para: Chatbots pessoais, ferramentas de produtividade ou jogos de texto criativos.  \\n   [Link para a API](https://platform.openai.com/docs/overview)\\n\\n2. **Unsplash API**  \\n   Designers e desenvolvedores, esta é para vocês. Com a API do Unsplash, você tem acesso a um tesouro de imagens de alta qualidade e royalty-free para usar em seus projetos.  \\n   Use para: Visuais deslumbrantes para blogs, aplicativos de fotografia ou portfólios criativos.  \\n   [Link para a API](https://unsplash.com/developers)\\n\\n3. **WeatherAPI**  \\n   Dados de clima não ficam mais abrangentes do que isso. Atualizações em tempo real, dados históricos e até recursos avançados, como qualidade do ar ou insights astronômicos — tudo na ponta dos dedos.  \\n   Use para: Painéis de clima, planejadores de viagens ou integrações de IoT.  \\n   [Link para a API](https://www.weatherapi.com/)\\n\\n4. **Spotify Web API**  \\n   Transforme seu aplicativo em um paraíso para amantes da música. Desde playlists até detalhes de álbuns, a API do Spotify oferece acesso a um incrível banco de dados de metadados musicais.  \\n   Use para: Playlists personalizadas, visualizadores de música ou ferramentas de descoberta.  \\n   [Link para a API](https://developer.spotify.com/documentation/web-api)\\n\\n5. **NASA APIs**  \\n   Sonhando com o espaço? As APIs gratuitas da NASA incluem tudo, desde fotos do rover de Marte até imagens de satélites e eventos celestiais. É como um passe nos bastidores para o cosmos.  \\n   Use para: Aplicativos educacionais, rastreadores de astronomia ou visuais inspirados em ficção científica.  \\n   [Link para a API](https://api.nasa.gov/)\\n\\n6. **The Movie Database (TMDB) API**  \\n   Esta API oferece informações detalhadas sobre filmes, programas de TV e celebridades. Além disso, inclui pôsteres de alta qualidade e arte de fãs.  \\n   Use para: Aplicativos de entretenimento, jogos de trivia ou sistemas de recomendação.  \\n   [Link para a API](https://developer.themoviedb.org/reference/intro/getting-started)\\n\\n7. **NewsAPI**  \\n   Traga notícias de última hora para seu aplicativo com artigos em tempo real de milhares de fontes. Filtre por idioma, categoria ou região para manter o conteúdo relevante.  \\n   Use para: Agregadores de notícias, rastreadores de tendências ou ferramentas de análise de sentimentos.  \\n   [Link para a API](https://newsapi.org/)\\n\\n8. **REST Countries API**  \\n   Todos os dados que você precisará sobre as nações do mundo — desde população e PIB até bandeiras e códigos de discagem.  \\n   Use para: Planejadores de viagens, quizzes de geografia mundial ou painéis de estatísticas globais.  \\n   [Link para a API](https://restcountries.com/)\\n\\n9. **OpenLibrary API**  \\n   Chamando todos os amantes de livros! A API do OpenLibrary fornece metadados sobre milhões de livros, incluindo autores, gêneros e anos de publicação.  \\n   Use para: Plataformas de resenha de livros, rastreadores de leitura ou aplicativos de descoberta literária.  \\n   [Link para a API](https://openlibrary.org/developers/api)\\n\\n10. **Random User Generator API**  \\n    Precisa de dados fictícios para testar seu projeto? Esta API cria perfis de usuários aleatórios completos com fotos, nomes e até endereços falsos.  \\n    Use para: Testes de UI, demonstrações de protótipos ou maquetes de aplicativos.  \\n    [Link para a API](https://randomuser.me/)\\n\\n11. **PokeAPI**  \\n    Se você é nostálgico por Pokémon ou apenas ama construir aplicativos de jogos, esta API tem todos os dados que você precisa — desde estatísticas de Pokémon até conjuntos de movimentos e habilidades.  \\n    Use para: Jogos, aplicativos de trivia ou atividades paralelas nostálgicas.  \\n    [Link para a API](https://pokeapi.co/)\\n\\n12. **OpenWeatherMap API**  \\n    Widgets, aplicativos e rastreadores de clima nunca foram tão fáceis. Esta API simplifica a obtenção de detalhes de clima em tempo real e previsões.  \\n    Use para: Rastreadores de clima personalizados ou notificações sensíveis ao tempo.  \\n    [Link para a API](https://openweathermap.org/api)\\n\\n13. **Public Holidays API**  \\n    Nunca mais perca um dia de folga. Obtenha dados sobre feriados públicos para quase qualquer país do mundo com apenas algumas chamadas de API.  \\n    Use para: Planejadores de eventos, software de folha de pagamento ou aplicativos de calendário.  \\n    [Link para a API](https://www.openholidaysapi.org/en/)\\n\\n14. **QR Code Generator API**  \\n    Crie rapidamente códigos QR dinâmicos para seus aplicativos, sites ou campanhas com esta API simples, mas poderosa.  \\n    Use para: Ferramentas de marketing, sistemas de bilhetagem ou interações sem contato.  \\n    [Link para a API](https://goqr.me/api/)\\n\\n15. **Agify API**  \\n    Quer prever a idade de alguém com base no primeiro nome? A Agify usa ciência de dados para fazer palpites assustadoramente precisos.  \\n    Use para: Experimentos divertidos, análise demográfica ou recursos de aplicativos peculiares.  \\n    [Link para a API](https://agify.io/)\\n\\n16. **ExchangeRate-API**  \\n    Acompanhe conversões de moeda em tempo real com esta API leve e amigável para iniciantes.  \\n    Use para: Calculadoras de viagem, painéis financeiros ou aplicativos de orçamento.  \\n    [Link para a API](https://www.exchangerate-api.com/)\\n\\n17. **IP Geolocation API**  \\n    Esta API pega um endereço IP e retorna dados de localização detalhados, facilitando a personalização das experiências do usuário.  \\n    Use para: Localização, ferramentas de análise ou segurança aprimorada.  \\n    [Link para a API](https://geo.ipify.org/)\\n\\n18. **OpenCage Geocoder API**  \\n    Converta coordenadas em endereços legíveis ou vice-versa com as ferramentas de geocodificação precisas da OpenCage.  \\n    Use para: Mapas, aplicativos de entrega ou análise geográfica.  \\n    [Link para a API](https://opencagedata.com/)\\n\\n19. **Jikan API**  \\n    Se você é fã de anime, Jikan é sua API de referência. Ele puxa dados diretamente do MyAnimeList, incluindo detalhes de anime, mangá e personagens.  \\n    Use para: Rastreadores de anime, motores de recomendação ou aplicativos de fandom.  \\n    [Link para a API](https://jikan.moe/)\\n\\n20. **Open Brewery DB**  \\n    Um diretório de cervejarias em todo o mundo, na ponta dos seus dedos.  \\n    Use para: Localizadores de cervejarias, aplicativos de viagem ou apenas diversão inspirada em cerveja.  \\n    [Link para a API](https://www.openbrewerydb.org/)\\n\\nEssas APIs economizam tempo, reduzem a complexidade e permitem que você se concentre no que realmente importa — suas ideias criativas. Com esta lista, você tem tudo o que precisa para começar a construir. Então, qual API você vai experimentar primeiro? Deixe-me saber nos comentários.\\n```'"
      ]
     },
     "execution_count": 22,
     "metadata": {},
     "output_type": "execute_result"
    }
   ],
   "source": [
    "url = 'https://dev.to/balrajola/20-free-apis-to-kickstart-your-side-projects-1f7i'\n",
    "text = extract_text_from_url(url)\n",
    "translate_article(text, \"pt-BR\")\n",
    "\n"
   ]
  }
 ],
 "metadata": {
  "colab": {
   "authorship_tag": "ABX9TyMBhs4b+98hHki/vRh9VZO/",
   "provenance": []
  },
  "kernelspec": {
   "display_name": "Python 3",
   "name": "python3"
  },
  "language_info": {
   "name": "python"
  }
 },
 "nbformat": 4,
 "nbformat_minor": 0
}
